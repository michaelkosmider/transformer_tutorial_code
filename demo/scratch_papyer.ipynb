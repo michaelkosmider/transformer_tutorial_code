{
 "cells": [
  {
   "cell_type": "code",
   "execution_count": 16,
   "id": "f74bcfae",
   "metadata": {},
   "outputs": [],
   "source": [
    "import torch"
   ]
  },
  {
   "cell_type": "code",
   "execution_count": 17,
   "id": "0a83ea5f",
   "metadata": {},
   "outputs": [],
   "source": [
    "N = 3\n",
    "T = 4\n",
    "H = 128"
   ]
  },
  {
   "cell_type": "code",
   "execution_count": null,
   "id": "a7106b14",
   "metadata": {},
   "outputs": [],
   "source": [
    "X_src = torch.randint(0, 10, size=(N, T, H))"
   ]
  },
  {
   "cell_type": "code",
   "execution_count": 19,
   "id": "4636ef13",
   "metadata": {},
   "outputs": [
    {
     "data": {
      "text/plain": [
       "tensor([[[7, 7, 4,  ..., 1, 8, 0],\n",
       "         [5, 8, 4,  ..., 7, 8, 7],\n",
       "         [5, 0, 7,  ..., 3, 5, 8],\n",
       "         [9, 1, 0,  ..., 1, 8, 9]],\n",
       "\n",
       "        [[2, 3, 1,  ..., 8, 6, 6],\n",
       "         [7, 6, 3,  ..., 3, 7, 3],\n",
       "         [1, 6, 6,  ..., 5, 4, 4],\n",
       "         [3, 1, 2,  ..., 6, 1, 6]],\n",
       "\n",
       "        [[9, 4, 6,  ..., 4, 8, 2],\n",
       "         [3, 4, 1,  ..., 7, 2, 3],\n",
       "         [4, 6, 9,  ..., 5, 5, 5],\n",
       "         [7, 9, 0,  ..., 5, 4, 5]]])"
      ]
     },
     "execution_count": 19,
     "metadata": {},
     "output_type": "execute_result"
    }
   ],
   "source": [
    "X_src"
   ]
  },
  {
   "cell_type": "code",
   "execution_count": 20,
   "id": "9b521872",
   "metadata": {},
   "outputs": [
    {
     "data": {
      "text/plain": [
       "tensor([[[7, 7, 4,  ..., 1, 8, 0],\n",
       "         [5, 8, 4,  ..., 7, 8, 7],\n",
       "         [5, 0, 7,  ..., 3, 5, 8],\n",
       "         [9, 1, 0,  ..., 1, 8, 9]],\n",
       "\n",
       "        [[7, 7, 4,  ..., 1, 8, 0],\n",
       "         [5, 8, 4,  ..., 7, 8, 7],\n",
       "         [5, 0, 7,  ..., 3, 5, 8],\n",
       "         [9, 1, 0,  ..., 1, 8, 9]],\n",
       "\n",
       "        [[7, 7, 4,  ..., 1, 8, 0],\n",
       "         [5, 8, 4,  ..., 7, 8, 7],\n",
       "         [5, 0, 7,  ..., 3, 5, 8],\n",
       "         [9, 1, 0,  ..., 1, 8, 9]],\n",
       "\n",
       "        ...,\n",
       "\n",
       "        [[9, 4, 6,  ..., 4, 8, 2],\n",
       "         [3, 4, 1,  ..., 7, 2, 3],\n",
       "         [4, 6, 9,  ..., 5, 5, 5],\n",
       "         [7, 9, 0,  ..., 5, 4, 5]],\n",
       "\n",
       "        [[9, 4, 6,  ..., 4, 8, 2],\n",
       "         [3, 4, 1,  ..., 7, 2, 3],\n",
       "         [4, 6, 9,  ..., 5, 5, 5],\n",
       "         [7, 9, 0,  ..., 5, 4, 5]],\n",
       "\n",
       "        [[9, 4, 6,  ..., 4, 8, 2],\n",
       "         [3, 4, 1,  ..., 7, 2, 3],\n",
       "         [4, 6, 9,  ..., 5, 5, 5],\n",
       "         [7, 9, 0,  ..., 5, 4, 5]]])"
      ]
     },
     "execution_count": 20,
     "metadata": {},
     "output_type": "execute_result"
    }
   ],
   "source": [
    "torch.repeat_interleave(X_src, 4, dim=0)"
   ]
  }
 ],
 "metadata": {
  "kernelspec": {
   "display_name": "torch_env",
   "language": "python",
   "name": "python3"
  },
  "language_info": {
   "codemirror_mode": {
    "name": "ipython",
    "version": 3
   },
   "file_extension": ".py",
   "mimetype": "text/x-python",
   "name": "python",
   "nbconvert_exporter": "python",
   "pygments_lexer": "ipython3",
   "version": "3.12.8"
  }
 },
 "nbformat": 4,
 "nbformat_minor": 5
}
