{
 "cells": [
  {
   "cell_type": "code",
   "execution_count": 1,
   "id": "a4a28020",
   "metadata": {},
   "outputs": [],
   "source": [
    "from transformer_components import MultiHeadAttention\n",
    "import torch"
   ]
  },
  {
   "cell_type": "code",
   "execution_count": 2,
   "id": "72950b9b",
   "metadata": {},
   "outputs": [],
   "source": [
    "N = 4\n",
    "num_heads= 8\n",
    "hidden_size= 512\n",
    "key_size= 64\n",
    "value_size= 64\n",
    "context_size = 14"
   ]
  },
  {
   "cell_type": "code",
   "execution_count": 3,
   "id": "03c03407",
   "metadata": {},
   "outputs": [],
   "source": [
    "layer = MultiHeadAttention(num_heads, hidden_size, key_size, value_size)"
   ]
  },
  {
   "cell_type": "code",
   "execution_count": 4,
   "id": "0b3533d4",
   "metadata": {},
   "outputs": [],
   "source": [
    "kv_cache = {}\n",
    "kv_cache['mode'] = 'tgt_cached'\n",
    "kv_cache['K'] = torch.zeros(size=(N, context_size, num_heads*key_size))\n",
    "kv_cache['V'] = torch.zeros(size=(N, context_size, num_heads*value_size))\n",
    "kv_cache['cache_len'] = 0"
   ]
  },
  {
   "cell_type": "code",
   "execution_count": 5,
   "id": "a73e4c2b",
   "metadata": {},
   "outputs": [],
   "source": [
    "X = torch.rand(N, 1, hidden_size)"
   ]
  },
  {
   "cell_type": "code",
   "execution_count": 6,
   "id": "4f5db0ed",
   "metadata": {},
   "outputs": [],
   "source": [
    "X_src = torch.rand(N, 7, hidden_size)"
   ]
  },
  {
   "cell_type": "code",
   "execution_count": 10,
   "id": "4f67af64",
   "metadata": {},
   "outputs": [],
   "source": [
    "Y = layer(X, X_src, kv_cache = kv_cache)"
   ]
  },
  {
   "cell_type": "code",
   "execution_count": 11,
   "id": "84328b14",
   "metadata": {},
   "outputs": [
    {
     "data": {
      "text/plain": [
       "tensor([[[-1.6833e-01, -2.2165e-01, -1.1672e+00,  ...,  1.9885e-01,\n",
       "          -3.5435e-01,  1.3764e-01],\n",
       "         [-1.6833e-01, -2.2165e-01, -1.1672e+00,  ...,  1.9885e-01,\n",
       "          -3.5435e-01,  1.3764e-01],\n",
       "         [ 0.0000e+00,  0.0000e+00,  0.0000e+00,  ...,  0.0000e+00,\n",
       "           0.0000e+00,  0.0000e+00],\n",
       "         ...,\n",
       "         [ 0.0000e+00,  0.0000e+00,  0.0000e+00,  ...,  0.0000e+00,\n",
       "           0.0000e+00,  0.0000e+00],\n",
       "         [ 0.0000e+00,  0.0000e+00,  0.0000e+00,  ...,  0.0000e+00,\n",
       "           0.0000e+00,  0.0000e+00],\n",
       "         [ 0.0000e+00,  0.0000e+00,  0.0000e+00,  ...,  0.0000e+00,\n",
       "           0.0000e+00,  0.0000e+00]],\n",
       "\n",
       "        [[-4.7641e-02,  1.4342e-02, -8.4705e-01,  ..., -4.8851e-01,\n",
       "          -4.4214e-01,  1.6597e-01],\n",
       "         [-4.7641e-02,  1.4342e-02, -8.4705e-01,  ..., -4.8851e-01,\n",
       "          -4.4214e-01,  1.6597e-01],\n",
       "         [ 0.0000e+00,  0.0000e+00,  0.0000e+00,  ...,  0.0000e+00,\n",
       "           0.0000e+00,  0.0000e+00],\n",
       "         ...,\n",
       "         [ 0.0000e+00,  0.0000e+00,  0.0000e+00,  ...,  0.0000e+00,\n",
       "           0.0000e+00,  0.0000e+00],\n",
       "         [ 0.0000e+00,  0.0000e+00,  0.0000e+00,  ...,  0.0000e+00,\n",
       "           0.0000e+00,  0.0000e+00],\n",
       "         [ 0.0000e+00,  0.0000e+00,  0.0000e+00,  ...,  0.0000e+00,\n",
       "           0.0000e+00,  0.0000e+00]],\n",
       "\n",
       "        [[-8.1750e-01, -2.2459e-01, -9.2771e-01,  ..., -9.4706e-01,\n",
       "          -1.5382e-01,  1.4200e-04],\n",
       "         [-8.1750e-01, -2.2459e-01, -9.2771e-01,  ..., -9.4706e-01,\n",
       "          -1.5382e-01,  1.4200e-04],\n",
       "         [ 0.0000e+00,  0.0000e+00,  0.0000e+00,  ...,  0.0000e+00,\n",
       "           0.0000e+00,  0.0000e+00],\n",
       "         ...,\n",
       "         [ 0.0000e+00,  0.0000e+00,  0.0000e+00,  ...,  0.0000e+00,\n",
       "           0.0000e+00,  0.0000e+00],\n",
       "         [ 0.0000e+00,  0.0000e+00,  0.0000e+00,  ...,  0.0000e+00,\n",
       "           0.0000e+00,  0.0000e+00],\n",
       "         [ 0.0000e+00,  0.0000e+00,  0.0000e+00,  ...,  0.0000e+00,\n",
       "           0.0000e+00,  0.0000e+00]],\n",
       "\n",
       "        [[ 1.3186e-02,  1.9666e-01, -4.9573e-01,  ..., -5.6959e-01,\n",
       "           2.1244e-01, -2.3144e-01],\n",
       "         [ 1.3186e-02,  1.9666e-01, -4.9573e-01,  ..., -5.6959e-01,\n",
       "           2.1244e-01, -2.3144e-01],\n",
       "         [ 0.0000e+00,  0.0000e+00,  0.0000e+00,  ...,  0.0000e+00,\n",
       "           0.0000e+00,  0.0000e+00],\n",
       "         ...,\n",
       "         [ 0.0000e+00,  0.0000e+00,  0.0000e+00,  ...,  0.0000e+00,\n",
       "           0.0000e+00,  0.0000e+00],\n",
       "         [ 0.0000e+00,  0.0000e+00,  0.0000e+00,  ...,  0.0000e+00,\n",
       "           0.0000e+00,  0.0000e+00],\n",
       "         [ 0.0000e+00,  0.0000e+00,  0.0000e+00,  ...,  0.0000e+00,\n",
       "           0.0000e+00,  0.0000e+00]]], grad_fn=<CopySlices>)"
      ]
     },
     "execution_count": 11,
     "metadata": {},
     "output_type": "execute_result"
    }
   ],
   "source": [
    "kv_cache['K']"
   ]
  },
  {
   "cell_type": "code",
   "execution_count": 8,
   "id": "aa52cdc9",
   "metadata": {},
   "outputs": [
    {
     "data": {
      "text/plain": [
       "torch.Size([4, 1, 512])"
      ]
     },
     "execution_count": 8,
     "metadata": {},
     "output_type": "execute_result"
    }
   ],
   "source": [
    "Y.shape"
   ]
  }
 ],
 "metadata": {
  "kernelspec": {
   "display_name": "torch_env",
   "language": "python",
   "name": "python3"
  },
  "language_info": {
   "codemirror_mode": {
    "name": "ipython",
    "version": 3
   },
   "file_extension": ".py",
   "mimetype": "text/x-python",
   "name": "python",
   "nbconvert_exporter": "python",
   "pygments_lexer": "ipython3",
   "version": "3.12.8"
  }
 },
 "nbformat": 4,
 "nbformat_minor": 5
}
