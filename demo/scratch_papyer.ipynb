{
 "cells": [
  {
   "cell_type": "code",
   "execution_count": 2,
   "id": "f74bcfae",
   "metadata": {},
   "outputs": [],
   "source": [
    "import torch"
   ]
  },
  {
   "cell_type": "code",
   "execution_count": 17,
   "id": "0a83ea5f",
   "metadata": {},
   "outputs": [],
   "source": [
    "N = 4\n",
    "K = 3\n",
    "vocab_size = 14\n",
    "H = 128"
   ]
  },
  {
   "cell_type": "code",
   "execution_count": 18,
   "id": "a7106b14",
   "metadata": {},
   "outputs": [
    {
     "data": {
      "text/plain": [
       "tensor([[1, 4, 3, 4, 2, 7, 7, 8, 2, 8, 7, 9, 5, 2],\n",
       "        [1, 4, 3, 4, 2, 7, 7, 8, 2, 8, 7, 9, 5, 2],\n",
       "        [1, 4, 3, 4, 2, 7, 7, 8, 2, 8, 7, 9, 5, 2],\n",
       "        [3, 9, 5, 4, 8, 6, 5, 5, 3, 4, 0, 0, 2, 3],\n",
       "        [3, 9, 5, 4, 8, 6, 5, 5, 3, 4, 0, 0, 2, 3],\n",
       "        [3, 9, 5, 4, 8, 6, 5, 5, 3, 4, 0, 0, 2, 3],\n",
       "        [9, 6, 0, 9, 1, 0, 9, 6, 3, 5, 8, 4, 8, 3],\n",
       "        [9, 6, 0, 9, 1, 0, 9, 6, 3, 5, 8, 4, 8, 3],\n",
       "        [9, 6, 0, 9, 1, 0, 9, 6, 3, 5, 8, 4, 8, 3],\n",
       "        [4, 3, 7, 8, 4, 5, 4, 8, 4, 3, 9, 7, 1, 8],\n",
       "        [4, 3, 7, 8, 4, 5, 4, 8, 4, 3, 9, 7, 1, 8],\n",
       "        [4, 3, 7, 8, 4, 5, 4, 8, 4, 3, 9, 7, 1, 8]])"
      ]
     },
     "execution_count": 18,
     "metadata": {},
     "output_type": "execute_result"
    }
   ],
   "source": [
    "pos1 = torch.randint(0, 10, size=(N, vocab_size))\n",
    "pos1 = torch.repeat_interleave(pos1, K, 0)\n",
    "pos1"
   ]
  },
  {
   "cell_type": "code",
   "execution_count": 24,
   "id": "6fd9f0fb",
   "metadata": {},
   "outputs": [],
   "source": [
    "test = pos1[::K]"
   ]
  },
  {
   "cell_type": "code",
   "execution_count": 25,
   "id": "91677bcf",
   "metadata": {},
   "outputs": [
    {
     "data": {
      "text/plain": [
       "tensor([[1, 4, 3, 4, 2, 7, 7, 8, 2, 8, 7, 9, 5, 2],\n",
       "        [3, 9, 5, 4, 8, 6, 5, 5, 3, 4, 0, 0, 2, 3],\n",
       "        [9, 6, 0, 9, 1, 0, 9, 6, 3, 5, 8, 4, 8, 3],\n",
       "        [4, 3, 7, 8, 4, 5, 4, 8, 4, 3, 9, 7, 1, 8]])"
      ]
     },
     "execution_count": 25,
     "metadata": {},
     "output_type": "execute_result"
    }
   ],
   "source": [
    "test"
   ]
  },
  {
   "cell_type": "code",
   "execution_count": 30,
   "id": "c90b2755",
   "metadata": {},
   "outputs": [
    {
     "data": {
      "text/plain": [
       "tensor([ 4, 12, 50, 50])"
      ]
     },
     "execution_count": 30,
     "metadata": {},
     "output_type": "execute_result"
    }
   ],
   "source": [
    "lengths = torch.argmax((test == 2).int(), dim=-1)\n",
    "lengths.masked_fill_(lengths == 0, 50)"
   ]
  },
  {
   "cell_type": "code",
   "execution_count": 31,
   "id": "a4f6bd70",
   "metadata": {},
   "outputs": [
    {
     "data": {
      "text/plain": [
       "tensor([ 4, 12, 50, 50])"
      ]
     },
     "execution_count": 31,
     "metadata": {},
     "output_type": "execute_result"
    }
   ],
   "source": [
    "lengths"
   ]
  }
 ],
 "metadata": {
  "kernelspec": {
   "display_name": "torch_env",
   "language": "python",
   "name": "python3"
  },
  "language_info": {
   "codemirror_mode": {
    "name": "ipython",
    "version": 3
   },
   "file_extension": ".py",
   "mimetype": "text/x-python",
   "name": "python",
   "nbconvert_exporter": "python",
   "pygments_lexer": "ipython3",
   "version": "3.12.8"
  }
 },
 "nbformat": 4,
 "nbformat_minor": 5
}
