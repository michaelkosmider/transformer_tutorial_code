{
 "cells": [
  {
   "cell_type": "code",
   "execution_count": 18,
   "id": "8deec046",
   "metadata": {},
   "outputs": [],
   "source": [
    "# Model creation and training.\n",
    "import torch\n",
    "from functions import get_causal_mask\n",
    "from full_transformer import Transformer\n",
    "from torch.optim import Adam\n",
    "\n",
    "# Data download and decompression.\n",
    "import os\n",
    "import requests\n",
    "import gzip\n",
    "import shutil\n",
    "\n",
    "# Data processing\n",
    "from torch.nn.utils.rnn import pad_sequence\n",
    "from torch.utils.data import Dataset, DataLoader\n",
    "import spacy"
   ]
  },
  {
   "cell_type": "code",
   "execution_count": 19,
   "id": "915de9db",
   "metadata": {},
   "outputs": [
    {
     "name": "stdout",
     "output_type": "stream",
     "text": [
      "You are using device: cuda\n"
     ]
    }
   ],
   "source": [
    "# Set device to gpu if available\n",
    "device = torch.device('cuda' if torch.cuda.is_available() \n",
    "                      else 'mps' if torch.backends.mps.is_available() \n",
    "                      else 'cpu')\n",
    "print(\"You are using device: %s\" % device)"
   ]
  },
  {
   "cell_type": "markdown",
   "id": "62f12692",
   "metadata": {},
   "source": [
    "## Download and decompress the training, validation and test data."
   ]
  },
  {
   "cell_type": "code",
   "execution_count": 20,
   "id": "ca7fda06",
   "metadata": {},
   "outputs": [],
   "source": [
    "MULTI30_URL = \"https://raw.githubusercontent.com/multi30k/dataset/master/data/task1/raw/\"\n",
    "LOCAL_DATA_DIR = \"multi30k\"\n",
    "DATA_FILES_CONFIG = {\n",
    "    \"train\": {\"en\": \"train.en.gz\", \"fr\": \"train.fr.gz\"},\n",
    "    \"val\": {\"en\": \"val.en.gz\", \"fr\": \"val.fr.gz\"},\n",
    "    \"test\": {\"en\": \"test_2016_flickr.en.gz\", \"fr\": \"test_2016_flickr.fr.gz\"},\n",
    "}\n",
    "DATA_FILES_NAMES = [\n",
    "    filename\n",
    "    for split in DATA_FILES_CONFIG.values()\n",
    "    for filename in split.values()\n",
    "]\n",
    "\n",
    "# Download data into a local directory. \n",
    "os.makedirs(LOCAL_DATA_DIR, exist_ok=True)\n",
    "\n",
    "for file_name in DATA_FILES_NAMES:\n",
    "    \n",
    "    local_path = os.path.join(LOCAL_DATA_DIR, file_name)\n",
    "    decompressed_path = os.path.splitext(local_path)[0]\n",
    "    \n",
    "    if not os.path.exists(decompressed_path):\n",
    "        \n",
    "        # Download file.\n",
    "        with requests.get(os.path.join(MULTI30_URL, file_name), stream=True) as response:\n",
    "            response.raise_for_status()\n",
    "            with open(local_path, \"wb\") as f:\n",
    "                for chunk in response.iter_content(chunk_size=8192):\n",
    "                    f.write(chunk)\n",
    "\n",
    "        # Decompress file.\n",
    "        with gzip.open(local_path, 'rb') as f_in:\n",
    "            with open(decompressed_path, 'wb') as f_out:\n",
    "                shutil.copyfileobj(f_in, f_out)    \n",
    "\n",
    "        # Remove compressed version of file.\n",
    "        os.remove(local_path)"
   ]
  },
  {
   "cell_type": "markdown",
   "id": "8e300136",
   "metadata": {},
   "source": [
    "## Load the data from files into ram, and tokenize."
   ]
  },
  {
   "cell_type": "code",
   "execution_count": 21,
   "id": "56c5ea30",
   "metadata": {},
   "outputs": [
    {
     "data": {
      "text/plain": [
       "(['two',\n",
       "  'young',\n",
       "  ',',\n",
       "  'white',\n",
       "  'males',\n",
       "  'are',\n",
       "  'outside',\n",
       "  'near',\n",
       "  'many',\n",
       "  'bushes',\n",
       "  '.'],\n",
       " ['deux',\n",
       "  'jeunes',\n",
       "  'hommes',\n",
       "  'blancs',\n",
       "  'sont',\n",
       "  'dehors',\n",
       "  'près',\n",
       "  'de',\n",
       "  'buissons',\n",
       "  '.'])"
      ]
     },
     "execution_count": 21,
     "metadata": {},
     "output_type": "execute_result"
    }
   ],
   "source": [
    "# To save time, save the data object. That way, spacy only needs tokenize the data once.\n",
    "if os.path.exists(\"data_cache.pt\"):\n",
    "    data = torch.load(\"data_cache.pt\")\n",
    "else:\n",
    "    spacy_en = spacy.load(\"en_core_web_sm\", disable=['parser', 'ner'])\n",
    "    spacy_fr = spacy.load(\"fr_core_news_sm\", disable=['parser', 'ner'])\n",
    "\n",
    "    def load_data(eng_file_path, fr_file_path):\n",
    "        \n",
    "        pairs = []\n",
    "        with open(eng_file_path, 'r') as f1, open(fr_file_path, 'r') as f2:\n",
    "            for eng_line, fr_line in zip(f1, f2):\n",
    "                eng_tokens = [token.text.lower() for token in spacy_en(eng_line.strip())]\n",
    "                fr_tokens = [token.text.lower() for token in spacy_fr(fr_line.strip())]\n",
    "                pairs.append((eng_tokens, fr_tokens))\n",
    "                \n",
    "        return pairs\n",
    "\n",
    "    data = {}  \n",
    "    for split, langs in DATA_FILES_CONFIG.items():\n",
    "        eng_file_path = os.path.join(LOCAL_DATA_DIR, os.path.splitext(langs['en'])[0])\n",
    "        fr_file_path = os.path.join(LOCAL_DATA_DIR, os.path.splitext(langs['fr'])[0])\n",
    "        \n",
    "        data[split] = load_data(eng_file_path, fr_file_path)\n",
    "    \n",
    "    torch.save(data, \"data_cache.pt\")\n",
    "    \n",
    "data['train'][0] # Example"
   ]
  },
  {
   "cell_type": "markdown",
   "id": "78a14ffc",
   "metadata": {},
   "source": [
    "## Create English and French vocabularies."
   ]
  },
  {
   "cell_type": "code",
   "execution_count": 22,
   "id": "80a10fbc",
   "metadata": {},
   "outputs": [],
   "source": [
    "PAD_TOKEN, PAD_IDX = \"<PAD>\", 0\n",
    "SOS_TOKEN, SOS_IDX = \"<SOS>\", 1\n",
    "EOS_TOKEN, EOS_IDX = \"<EOS>\", 2\n",
    "UNK_TOKEN, UNK_IDX = \"<UNK>\", 3\n",
    "\n",
    "class Vocab:\n",
    "    \n",
    "    def __init__(self):\n",
    "        \n",
    "        self.word_to_ordinal = {PAD_TOKEN: PAD_IDX, SOS_TOKEN: SOS_IDX, EOS_TOKEN: EOS_IDX, UNK_TOKEN: UNK_IDX}\n",
    "        self.ordinal_to_word = {PAD_IDX: PAD_TOKEN, SOS_IDX: SOS_TOKEN, EOS_IDX: EOS_TOKEN, UNK_IDX: UNK_TOKEN}\n",
    "        self.count = 4\n",
    "    \n",
    "    # This method builds the vocabulary, for each sentence passed in.\n",
    "    def add_sentence(self, sentence):\n",
    "        \n",
    "        for word in sentence:\n",
    "            if word not in self.word_to_ordinal:\n",
    "                self.word_to_ordinal[word] = self.count\n",
    "                self.ordinal_to_word[self.count] = word\n",
    "                self.count += 1\n",
    "    \n",
    "    # This method is for creating model inputs.\n",
    "    def to_ordinals(self, sentence):\n",
    "        \n",
    "        ordinal_sentence = [SOS_IDX]\n",
    "        for word in sentence:\n",
    "            ordinal_sentence.append(self.word_to_ordinal.get(word, UNK_IDX))\n",
    "        ordinal_sentence.append(EOS_IDX)\n",
    "            \n",
    "        return torch.tensor(ordinal_sentence, dtype=torch.int64)\n",
    "    \n",
    "    # This method is for viewing model outputs.\n",
    "    def to_words(self, ordinal_sentence):\n",
    "        \n",
    "        tokens = []\n",
    "        for ordinal in ordinal_sentence:\n",
    "            ordinal = ordinal.item()\n",
    "            if ordinal == EOS_IDX:\n",
    "                break\n",
    "            if ordinal != SOS_IDX and ordinal != PAD_IDX:\n",
    "                tokens.append(self.ordinal_to_word.get(ordinal, UNK_TOKEN))\n",
    "        \n",
    "        return ' '.join(tokens)\n",
    "    \n",
    "# Build the vocabularies from training data.\n",
    "en_vocab = Vocab()\n",
    "fr_vocab = Vocab()\n",
    "\n",
    "for en_fr_pair in data['train']:\n",
    "    en_vocab.add_sentence(en_fr_pair[0])\n",
    "    fr_vocab.add_sentence(en_fr_pair[1])"
   ]
  },
  {
   "cell_type": "markdown",
   "id": "3fbd2da2",
   "metadata": {},
   "source": [
    "## Creating a dataloader for train, val, and test datasets."
   ]
  },
  {
   "cell_type": "code",
   "execution_count": 23,
   "id": "acb3582e",
   "metadata": {},
   "outputs": [],
   "source": [
    "class Multi30k(Dataset):\n",
    "    \n",
    "    def __init__(self, pairs, en_vocab, fr_vocab):\n",
    "        super().__init__()\n",
    "        \n",
    "        self.ordinal_pairs = []\n",
    "        for pair in pairs:\n",
    "            ordinal_pair = (en_vocab.to_ordinals(pair[0]), fr_vocab.to_ordinals(pair[1]))\n",
    "            self.ordinal_pairs.append(ordinal_pair)\n",
    "            \n",
    "    def __len__(self):\n",
    "        return len(self.ordinal_pairs)\n",
    "        \n",
    "    def __getitem__(self, index):\n",
    "        return self.ordinal_pairs[index]"
   ]
  },
  {
   "cell_type": "code",
   "execution_count": 24,
   "id": "6d24ae2c",
   "metadata": {},
   "outputs": [],
   "source": [
    "BATCH_SIZE = 16\n",
    "\n",
    "def collate_fn(batch):\n",
    "    X_src = pad_sequence([batch[i][0] for i in range(len(batch))], batch_first=True, padding_value=PAD_IDX)\n",
    "    X_tgt = pad_sequence([batch[i][1] for i in range(len(batch))], batch_first=True, padding_value=PAD_IDX)\n",
    "    return (X_src, X_tgt)\n",
    "\n",
    "dataloaders = {}\n",
    "for split, pairs in data.items():\n",
    "    dataset = Multi30k(pairs, en_vocab, fr_vocab)\n",
    "    dataloaders[split] = DataLoader(\n",
    "        dataset,\n",
    "        batch_size=BATCH_SIZE,\n",
    "        shuffle=(split == \"train\"),  # Shuffle only True for training data\n",
    "        collate_fn=collate_fn,\n",
    "    )"
   ]
  },
  {
   "cell_type": "markdown",
   "id": "f81ebcf4",
   "metadata": {},
   "source": [
    "## Model creation and training loop."
   ]
  },
  {
   "cell_type": "code",
   "execution_count": null,
   "id": "e0b3c379",
   "metadata": {},
   "outputs": [],
   "source": [
    "CONTEXT_SIZE = 60 # The number of positional encodings to learn.\n",
    "\n",
    "encoder_config = {\n",
    "    \"vocab_size\": en_vocab.count,\n",
    "    \"context_size\": 60,\n",
    "    \"stack_size\": 6,\n",
    "    \"num_heads\": 8,\n",
    "    \"hidden_size\": 512,\n",
    "    \"key_size\": 64,\n",
    "    \"value_size\": 64,\n",
    "    \"feedforward_size\": 2048,\n",
    "    \"dropout\": 0.1,\n",
    "}\n",
    "\n",
    "decoder_config = {\n",
    "    \"vocab_size\": fr_vocab.count,\n",
    "    \"context_size\": 60,\n",
    "    \"stack_size\": 6,\n",
    "    \"num_heads\": 8,\n",
    "    \"hidden_size\": 512,\n",
    "    \"key_size\": 64,\n",
    "    \"value_size\": 64,\n",
    "    \"feedforward_size\": 2048,\n",
    "    \"dropout\": 0.1,\n",
    "}\n",
    "\n",
    "model = Transformer(encoder_config, decoder_config).to(device)\n",
    "criterion = torch.nn.CrossEntropyLoss(ignore_index=PAD_IDX)\n",
    "optimizer = Adam(model.parameters(), lr=0.0001)\n",
    "\n",
    "epochs_completed = 0\n",
    "\n",
    "if os.path.exists(\"checkpoint.pt\"):\n",
    "    checkpoint = torch.load(\"checkpoint.pt\")\n",
    "    model.load_state_dict(checkpoint[\"model_state_dict\"])\n",
    "    optimizer.load_state_dict(checkpoint[\"optimizer_state_dict\"])\n",
    "    epochs_completed = checkpoint[\"epochs_completed\"]\n",
    "\n",
    "model.train()\n",
    "\n",
    "epochs = 5\n",
    "for _ in range(epochs):\n",
    "    for batch_src, batch_tgt in dataloaders[\"train\"]:\n",
    "\n",
    "        # Move batch to gpu, prepare model inputs.\n",
    "        encoder_in = batch_src.to(device)\n",
    "        decoder_in = batch_tgt[:, :-1].to(device)  # Do not include the last token.\n",
    "        ground_truth = batch_tgt[:, 1:].to(\n",
    "            device\n",
    "        )  # Do not include the first token. The ground truth for the SOS token is thus the first word of the French sentence.\n",
    "\n",
    "        # Create masks.\n",
    "        tgt_len = decoder_in.shape[1]\n",
    "\n",
    "        tgt_causal_mask = get_causal_mask(tgt_len, device)\n",
    "        tgt_key_padding_mask = decoder_in == PAD_IDX\n",
    "        src_key_padding_mask = encoder_in == PAD_IDX\n",
    "\n",
    "        # Update weights\n",
    "        optimizer.zero_grad()\n",
    "\n",
    "        features = model(\n",
    "            decoder_in,\n",
    "            encoder_in,\n",
    "            tgt_causal_mask,\n",
    "            tgt_key_padding_mask,\n",
    "            src_key_padding_mask,\n",
    "        )\n",
    "        loss = criterion(features.view(-1, features.shape[-1]), ground_truth.view(-1))\n",
    "\n",
    "        print(loss)\n",
    "\n",
    "        loss.backward()\n",
    "        optimizer.step()\n",
    "\n",
    "    epochs_completed += 1\n",
    "\n",
    "torch.save(\n",
    "    {\n",
    "        \"model_state_dict\": model.state_dict(),\n",
    "        \"optimizer_state_dict\": optimizer.state_dict(),\n",
    "        \"epochs_completed\": epochs_completed,\n",
    "    },\n",
    "    \"checkpoint.pt\",\n",
    ")"
   ]
  },
  {
   "cell_type": "code",
   "execution_count": 28,
   "id": "018bbb18",
   "metadata": {},
   "outputs": [
    {
     "data": {
      "text/plain": [
       "15"
      ]
     },
     "execution_count": 28,
     "metadata": {},
     "output_type": "execute_result"
    }
   ],
   "source": [
    "epochs_completed"
   ]
  },
  {
   "cell_type": "code",
   "execution_count": 29,
   "id": "e95dffeb",
   "metadata": {},
   "outputs": [],
   "source": [
    "batches = iter(dataloaders['train'])"
   ]
  },
  {
   "cell_type": "code",
   "execution_count": null,
   "id": "ae05c228",
   "metadata": {},
   "outputs": [
    {
     "data": {
      "text/plain": [
       "tensor([[   1,   21,   31,   34, 2011,   61,   21,  202,  491,   14,    2,    0,\n",
       "            0,    0,    0,    0,    0,    0,    0,    0,    0,    0,    0,    0,\n",
       "            0]], device='cuda:0')"
      ]
     },
     "execution_count": 30,
     "metadata": {},
     "output_type": "execute_result"
    }
   ],
   "source": [
    "X_src, X_tgt = next(batches)\n",
    "X_src = X_src.to(device)\n",
    "X_tgt = X_tgt.to(device)\n",
    "\n",
    "\n",
    "X_src = X_src[:1,:]\n",
    "src_key_padding_mask = (X_src == PAD_IDX)\n",
    "\n",
    "X_src"
   ]
  },
  {
   "cell_type": "code",
   "execution_count": 31,
   "id": "b458851b",
   "metadata": {},
   "outputs": [],
   "source": [
    "model.eval()\n",
    "with torch.no_grad():\n",
    "    beams = model.generate(X_src, src_key_padding_mask, 7, 60, SOS_IDX, PAD_IDX)"
   ]
  },
  {
   "cell_type": "code",
   "execution_count": 32,
   "id": "9434c9ae",
   "metadata": {},
   "outputs": [
    {
     "data": {
      "text/plain": [
       "'a man is snowboarding down a snowy hill .'"
      ]
     },
     "execution_count": 32,
     "metadata": {},
     "output_type": "execute_result"
    }
   ],
   "source": [
    "en_vocab.to_words(X_src[0])"
   ]
  },
  {
   "cell_type": "code",
   "execution_count": 37,
   "id": "a758c898",
   "metadata": {},
   "outputs": [
    {
     "data": {
      "text/plain": [
       "tensor([   1,   21,   31,   34, 2011,   61,   21,  202,  491,   14,    2,    0,\n",
       "           0,    0,    0,    0,    0,    0,    0,    0,    0,    0,    0,    0,\n",
       "           0], device='cuda:0')"
      ]
     },
     "execution_count": 37,
     "metadata": {},
     "output_type": "execute_result"
    }
   ],
   "source": [
    "X_src[0]"
   ]
  },
  {
   "cell_type": "code",
   "execution_count": 33,
   "id": "354e7502",
   "metadata": {},
   "outputs": [
    {
     "data": {
      "text/plain": [
       "'un homme descend une pente enneigée en snowboard .'"
      ]
     },
     "execution_count": 33,
     "metadata": {},
     "output_type": "execute_result"
    }
   ],
   "source": [
    "fr_vocab.to_words(beams[0])"
   ]
  },
  {
   "cell_type": "code",
   "execution_count": 34,
   "id": "4d479a17",
   "metadata": {},
   "outputs": [
    {
     "data": {
      "text/plain": [
       "tensor([   1,   19,   30,  180,   23, 1822,  218,   15, 1002,   13,    2,   13,\n",
       "           2,   13,    2,    2,    2,   13,    2,    2,   13,    2,    2,   13,\n",
       "           2,  218,    2,    1,    1,    1,    1,    1,    1,    1,    1,    1,\n",
       "           1,    1,    1,    1,    1,    1,    1,    1,    1,    1,    1,    1,\n",
       "           1,    1,    1,    1,    1,    1,    1,    1,    1,    1,    1,    6],\n",
       "       device='cuda:0', dtype=torch.int32)"
      ]
     },
     "execution_count": 34,
     "metadata": {},
     "output_type": "execute_result"
    }
   ],
   "source": [
    "beams[1]"
   ]
  },
  {
   "cell_type": "code",
   "execution_count": null,
   "id": "480025d4",
   "metadata": {},
   "outputs": [
    {
     "data": {
      "text/plain": [
       "tensor([[   1,   19,   30,  306,   92, 1002,   35,   23, 1822,  218,   13,    2,\n",
       "            0,    0,    0,    0,    0,    0,    0,    0,    0,    0,    0,    0,\n",
       "            0,    0,    0,    0,    0]], device='cuda:0')"
      ]
     },
     "execution_count": 35,
     "metadata": {},
     "output_type": "execute_result"
    }
   ],
   "source": [
    "X_tgt= X_tgt[:1,:]\n",
    "X_tgt"
   ]
  },
  {
   "cell_type": "code",
   "execution_count": 36,
   "id": "8f3935e8",
   "metadata": {},
   "outputs": [
    {
     "data": {
      "text/plain": [
       "'un homme fait du snowboard sur une pente enneigée .'"
      ]
     },
     "execution_count": 36,
     "metadata": {},
     "output_type": "execute_result"
    }
   ],
   "source": [
    "fr_vocab.to_words(X_tgt[0])"
   ]
  }
 ],
 "metadata": {
  "kernelspec": {
   "display_name": "my_torch_env",
   "language": "python",
   "name": "python3"
  },
  "language_info": {
   "codemirror_mode": {
    "name": "ipython",
    "version": 3
   },
   "file_extension": ".py",
   "mimetype": "text/x-python",
   "name": "python",
   "nbconvert_exporter": "python",
   "pygments_lexer": "ipython3",
   "version": "3.10.16"
  }
 },
 "nbformat": 4,
 "nbformat_minor": 5
}
