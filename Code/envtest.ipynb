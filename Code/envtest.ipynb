{
 "cells": [
  {
   "cell_type": "code",
   "execution_count": 1,
   "id": "99846d92",
   "metadata": {},
   "outputs": [
    {
     "name": "stdout",
     "output_type": "stream",
     "text": [
      "PyTorch version: 2.2.0+cu121\n",
      "CUDA available: True\n",
      "CUDA version PyTorch is using: 12.1\n",
      "Device name: NVIDIA GeForce RTX 3090\n",
      "Torchvision version: 0.17.0+cu121\n",
      "Torchaudio version: 2.2.0+cu121\n",
      "Torchtext version: 0.17.0+cpu\n",
      "Spacy en_core_web_sm loaded successfully.\n",
      "Spacy fr_core_news_sm loaded successfully.\n"
     ]
    }
   ],
   "source": [
    "import torch\n",
    "import torchvision\n",
    "import torchaudio\n",
    "import torchtext\n",
    "import spacy\n",
    "\n",
    "# 1. Check PyTorch and CUDA\n",
    "print(f\"PyTorch version: {torch.__version__}\")\n",
    "print(f\"CUDA available: {torch.cuda.is_available()}\")\n",
    "if torch.cuda.is_available():\n",
    "    print(f\"CUDA version PyTorch is using: {torch.version.cuda}\")\n",
    "    print(f\"Device name: {torch.cuda.get_device_name(0)}\")\n",
    "\n",
    "# 2. Check domain library versions (optional, but good to see)\n",
    "print(f\"Torchvision version: {torchvision.__version__}\")\n",
    "print(f\"Torchaudio version: {torchaudio.__version__}\")\n",
    "print(f\"Torchtext version: {torchtext.__version__}\") # Make sure this doesn't error\n",
    "\n",
    "# 3. Test Spacy (optional)\n",
    "try:\n",
    "    nlp_en = spacy.load('en_core_web_sm')\n",
    "    print(\"Spacy en_core_web_sm loaded successfully.\")\n",
    "    nlp_fr = spacy.load('fr_core_news_sm')\n",
    "    print(\"Spacy fr_core_news_sm loaded successfully.\")\n",
    "except OSError:\n",
    "    print(\"Spacy models might not be downloaded correctly. Run the download commands again.\")"
   ]
  },
  {
   "cell_type": "code",
   "execution_count": 2,
   "id": "b59279cb",
   "metadata": {},
   "outputs": [
    {
     "name": "stdout",
     "output_type": "stream",
     "text": [
      "1.26.4\n"
     ]
    }
   ],
   "source": [
    "import numpy\n",
    "print(numpy.__version__)\n"
   ]
  }
 ],
 "metadata": {
  "kernelspec": {
   "display_name": "my_torch_env",
   "language": "python",
   "name": "python3"
  },
  "language_info": {
   "codemirror_mode": {
    "name": "ipython",
    "version": 3
   },
   "file_extension": ".py",
   "mimetype": "text/x-python",
   "name": "python",
   "nbconvert_exporter": "python",
   "pygments_lexer": "ipython3",
   "version": "3.10.16"
  }
 },
 "nbformat": 4,
 "nbformat_minor": 5
}
