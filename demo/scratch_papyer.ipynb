{
 "cells": [
  {
   "cell_type": "code",
   "execution_count": 1,
   "id": "a4a28020",
   "metadata": {},
   "outputs": [],
   "source": [
    "from transformer_components import MultiHeadAttention, TransformerDecoder\n",
    "import torch"
   ]
  },
  {
   "cell_type": "code",
   "execution_count": 2,
   "id": "72950b9b",
   "metadata": {},
   "outputs": [],
   "source": [
    "N = 4\n",
    "stack_size = 6\n",
    "num_heads= 8\n",
    "hidden_size= 512\n",
    "key_size= 64\n",
    "value_size= 64\n",
    "context_size = 14"
   ]
  },
  {
   "cell_type": "code",
   "execution_count": 3,
   "id": "03c03407",
   "metadata": {},
   "outputs": [],
   "source": [
    "model = TransformerDecoder(stack_size, num_heads, hidden_size, key_size, value_size)"
   ]
  },
  {
   "cell_type": "code",
   "execution_count": 4,
   "id": "3ac82d50",
   "metadata": {},
   "outputs": [],
   "source": [
    "all_kv_cache = [ {} for i in range(stack_size)]\n",
    "\n",
    "for layer_kv_cache in all_kv_cache:\n",
    "    # Cache for self attention \n",
    "    tgt_kv_cache = {}\n",
    "    tgt_kv_cache['mode'] = \"self_attn\"\n",
    "    tgt_kv_cache['K'] = torch.zeros(size=(N, context_size, num_heads*key_size))\n",
    "    tgt_kv_cache['V'] = torch.zeros(size=(N, context_size, num_heads*value_size))\n",
    "    tgt_kv_cache['cache_len'] = 0\n",
    "    \n",
    "    # Cache for cross attention\n",
    "    src_kv_cache = {}\n",
    "    src_kv_cache['mode'] = \"cross_attn\"\n",
    "    \n",
    "    layer_kv_cache['tgt'] = tgt_kv_cache\n",
    "    layer_kv_cache['src'] = src_kv_cache"
   ]
  },
  {
   "cell_type": "code",
   "execution_count": 5,
   "id": "baa434b5",
   "metadata": {},
   "outputs": [],
   "source": [
    "X_src = torch.rand((1, 6, hidden_size))\n",
    "X_tgt = torch.rand((N, 1, hidden_size))"
   ]
  },
  {
   "cell_type": "code",
   "execution_count": 6,
   "id": "b1022804",
   "metadata": {},
   "outputs": [],
   "source": [
    "X = model(X_tgt, X_src, tgt_mask=None, tgt_key_padding_mask=None, src_key_padding_mask=None, all_kv_cache=all_kv_cache)"
   ]
  },
  {
   "cell_type": "code",
   "execution_count": 7,
   "id": "047fb09b",
   "metadata": {},
   "outputs": [
    {
     "data": {
      "text/plain": [
       "tensor([[[-0.2098,  0.8633, -2.1969,  ..., -0.1801,  0.0922, -0.5503],\n",
       "         [ 0.0000,  0.0000,  0.0000,  ...,  0.0000,  0.0000,  0.0000],\n",
       "         [ 0.0000,  0.0000,  0.0000,  ...,  0.0000,  0.0000,  0.0000],\n",
       "         ...,\n",
       "         [ 0.0000,  0.0000,  0.0000,  ...,  0.0000,  0.0000,  0.0000],\n",
       "         [ 0.0000,  0.0000,  0.0000,  ...,  0.0000,  0.0000,  0.0000],\n",
       "         [ 0.0000,  0.0000,  0.0000,  ...,  0.0000,  0.0000,  0.0000]],\n",
       "\n",
       "        [[ 0.4616, -0.2614, -1.6569,  ...,  0.1453,  1.6438, -0.5931],\n",
       "         [ 0.0000,  0.0000,  0.0000,  ...,  0.0000,  0.0000,  0.0000],\n",
       "         [ 0.0000,  0.0000,  0.0000,  ...,  0.0000,  0.0000,  0.0000],\n",
       "         ...,\n",
       "         [ 0.0000,  0.0000,  0.0000,  ...,  0.0000,  0.0000,  0.0000],\n",
       "         [ 0.0000,  0.0000,  0.0000,  ...,  0.0000,  0.0000,  0.0000],\n",
       "         [ 0.0000,  0.0000,  0.0000,  ...,  0.0000,  0.0000,  0.0000]],\n",
       "\n",
       "        [[-0.3419, -0.3258, -0.8073,  ...,  0.5739, -0.1171,  0.9592],\n",
       "         [ 0.0000,  0.0000,  0.0000,  ...,  0.0000,  0.0000,  0.0000],\n",
       "         [ 0.0000,  0.0000,  0.0000,  ...,  0.0000,  0.0000,  0.0000],\n",
       "         ...,\n",
       "         [ 0.0000,  0.0000,  0.0000,  ...,  0.0000,  0.0000,  0.0000],\n",
       "         [ 0.0000,  0.0000,  0.0000,  ...,  0.0000,  0.0000,  0.0000],\n",
       "         [ 0.0000,  0.0000,  0.0000,  ...,  0.0000,  0.0000,  0.0000]],\n",
       "\n",
       "        [[-0.0673, -0.1545, -1.2751,  ..., -1.7126,  0.1026, -0.0787],\n",
       "         [ 0.0000,  0.0000,  0.0000,  ...,  0.0000,  0.0000,  0.0000],\n",
       "         [ 0.0000,  0.0000,  0.0000,  ...,  0.0000,  0.0000,  0.0000],\n",
       "         ...,\n",
       "         [ 0.0000,  0.0000,  0.0000,  ...,  0.0000,  0.0000,  0.0000],\n",
       "         [ 0.0000,  0.0000,  0.0000,  ...,  0.0000,  0.0000,  0.0000],\n",
       "         [ 0.0000,  0.0000,  0.0000,  ...,  0.0000,  0.0000,  0.0000]]],\n",
       "       grad_fn=<CopySlices>)"
      ]
     },
     "execution_count": 7,
     "metadata": {},
     "output_type": "execute_result"
    }
   ],
   "source": [
    "all_kv_cache[1]['tgt']['K']"
   ]
  },
  {
   "cell_type": "code",
   "execution_count": 9,
   "id": "666dd2a5",
   "metadata": {},
   "outputs": [
    {
     "data": {
      "text/plain": [
       "tensor([-2.0345, -1.9063, -1.9104, -1.8462, -2.4434, -2.7312, -2.3334, -2.6808,\n",
       "        -2.3299])"
      ]
     },
     "execution_count": 9,
     "metadata": {},
     "output_type": "execute_result"
    }
   ],
   "source": [
    "torch.log_softmax(torch.rand((9,)), dim=-1)"
   ]
  }
 ],
 "metadata": {
  "kernelspec": {
   "display_name": "torch_env",
   "language": "python",
   "name": "python3"
  },
  "language_info": {
   "codemirror_mode": {
    "name": "ipython",
    "version": 3
   },
   "file_extension": ".py",
   "mimetype": "text/x-python",
   "name": "python",
   "nbconvert_exporter": "python",
   "pygments_lexer": "ipython3",
   "version": "3.12.8"
  }
 },
 "nbformat": 4,
 "nbformat_minor": 5
}
